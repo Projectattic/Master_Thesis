{
 "cells": [
  {
   "cell_type": "code",
   "execution_count": null,
   "metadata": {},
   "outputs": [],
   "source": [
    "######### TEST OF INIT ROW with various fullness\n",
    "\n",
    "import containerClass\n",
    "import stackClass\n",
    "import rowClass\n",
    "\n",
    "# full_container_list = [containerClass.Container(\"ISO_1\",float(1)),containerClass.Container(\"ISO_2\",float(2)),containerClass.Container(\"ISO_3\",float(3)),containerClass.Container(\"ISO_4\",float(4)),containerClass.Container(\"ISO_5\",float(5)),containerClass.Container(\"ISO_6\",float(6))]\n",
    "# half_container_list = [containerClass.Container(\"ISO_7\",float(7)),containerClass.Container(\"ISO_8\",float(8)),containerClass.Container(\"ISO_9\",float(9))]\n",
    "# single_container_list = [containerClass.Container(\"ISO_10\",float(10))]\n",
    "\n",
    "# # full_stack_list = [Stack(\"A\",\"1\")]\n",
    "# # empty_row = rowClass.Row(\"A\",[],5,6)\n",
    "# # print(empty_row)\n",
    "# half_full_stacks = [stackClass.Stack(\"A\",\"1\",full_container_list,6),stackClass.Stack(\"A\",\"2\",half_container_list,6),stackClass.Stack(\"A\",\"3\",single_container_list,6)]\n",
    "# half_full_row = rowClass.Row(\"A\",half_full_stacks,5,6)\n",
    "\n",
    "\n",
    "test_row = rowClass.Row(\"A\",[stackClass.Stack(\"A\",\"1\",[containerClass.Container(\"ISO_1\",float(1)),containerClass.Container(\"ISO_2\",float(2)),containerClass.Container(\"ISO_3\",float(3)),containerClass.Container(\"ISO_4\",float(4)),containerClass.Container(\"ISO_5\",float(5)),containerClass.Container(\"ISO_6\",float(6))],6),\n",
    "stackClass.Stack(\"A\",\"2\",[containerClass.Container(\"ISO_7\",float(7)),containerClass.Container(\"ISO_8\",float(8)),containerClass.Container(\"ISO_9\",float(9))],6),\n",
    "stackClass.Stack(\"A\",\"3\",[containerClass.Container(\"ISO_10\",float(10))],6)],5,6)\n",
    "print(test_row)"
   ]
  },
  {
   "cell_type": "code",
   "execution_count": null,
   "metadata": {},
   "outputs": [],
   "source": [
    "########## ADDING CONTAINER TO ROW, REMOVING CONTAINERS FROM ROW #######\n",
    "\n",
    "import containerClass\n",
    "import stackClass\n",
    "import rowClass\n",
    "\n",
    "test_row = rowClass.Row(\"A\",[stackClass.Stack(\"A\",\"1\",[containerClass.Container(\"ISO_1\",float(1)),containerClass.Container(\"ISO_2\",float(2)),containerClass.Container(\"ISO_3\",float(3)),containerClass.Container(\"ISO_4\",float(4)),containerClass.Container(\"ISO_5\",float(5)),containerClass.Container(\"ISO_6\",float(6))],6),\n",
    "stackClass.Stack(\"A\",\"2\",[containerClass.Container(\"ISO_7\",float(7)),containerClass.Container(\"ISO_8\",float(8)),containerClass.Container(\"ISO_9\",float(9))],6),\n",
    "stackClass.Stack(\"A\",\"3\",[containerClass.Container(\"ISO_10\",float(10))],6)],5,6)\n",
    "\n",
    "#\n",
    "test_row.add_container_to_stack(containerClass.Container(\"ISO_nu\",float(21)),\"4\")\n",
    "test_row.add_container_to_stack(containerClass.Container(\"ISO_n\",float(23)),\"4\")\n",
    "\n",
    "while not (test_row.stacks[\"4\"].is_empty()):\n",
    "    cont = test_row.remove_container_from_stack(\"4\")\n",
    "    print(cont)\n",
    "    print(test_row)\n",
    "\n",
    "\n",
    "# print(test_row)"
   ]
  },
  {
   "cell_type": "code",
   "execution_count": null,
   "metadata": {},
   "outputs": [],
   "source": [
    "########## Removing containers by container number #######\n",
    "import containerClass\n",
    "import stackClass\n",
    "import rowClass\n",
    "\n",
    "test_row = rowClass.Row(\"A\",[stackClass.Stack(\"A\",\"1\",[containerClass.Container(\"ISO_1\",float(1)),containerClass.Container(\"ISO_2\",float(2)),containerClass.Container(\"ISO_3\",float(3)),containerClass.Container(\"ISO_4\",float(4)),containerClass.Container(\"ISO_5\",float(5)),containerClass.Container(\"ISO_6\",float(6))],6),\n",
    "stackClass.Stack(\"A\",\"2\",[containerClass.Container(\"ISO_7\",float(7)),containerClass.Container(\"ISO_8\",float(8)),containerClass.Container(\"ISO_9\",float(9))],6),\n",
    "stackClass.Stack(\"A\",\"3\",[containerClass.Container(\"ISO_10\",float(10))],6)],5,6)\n",
    "\n",
    "#\n",
    "test_row.add_container_to_stack(containerClass.Container(\"ISO_nu\",float(21)),\"4\")\n",
    "test_row.add_container_to_stack(containerClass.Container(\"ISO_n\",float(23)),\"4\")\n",
    "\n",
    "\n",
    "print(test_row)\n",
    "removed_container,res = test_row.remove_container_from_depth(\"ISO_1\")\n",
    "print(removed_container)\n",
    "print(res)\n",
    "print(test_row)\n"
   ]
  },
  {
   "cell_type": "code",
   "execution_count": null,
   "metadata": {},
   "outputs": [],
   "source": [
    "########## Removing containers by container number #######\n",
    "import containerClass\n",
    "import stackClass\n",
    "import rowClass\n",
    "\n",
    "test_row = rowClass.Row(\"A\",[stackClass.Stack(\"A\",\"1\",[containerClass.Container(\"ISO_1\",float(1)),containerClass.Container(\"ISO_2\",float(2)),containerClass.Container(\"ISO_3\",float(3)),containerClass.Container(\"ISO_4\",float(4)),containerClass.Container(\"ISO_5\",float(5)),containerClass.Container(\"ISO_6\",float(6))],6),\n",
    "stackClass.Stack(\"A\",\"2\",[containerClass.Container(\"ISO_7\",float(7)),containerClass.Container(\"ISO_8\",float(8)),containerClass.Container(\"ISO_9\",float(9))],6),\n",
    "stackClass.Stack(\"A\",\"3\",[containerClass.Container(\"ISO_10\",float(10))],6)],5,6)\n",
    "\n",
    "print(test_row.serialize_in_class())"
   ]
  },
  {
   "cell_type": "code",
   "execution_count": 1,
   "metadata": {},
   "outputs": [
    {
     "name": "stdout",
     "output_type": "stream",
     "text": [
      "row(a,[stack(a1,[container(iso_1,a10,1.0),container(iso_2,a11,2.0),container(iso_3,a12,3.0),container(iso_4,a13,4.0),container(iso_5,a14,5.0),container(iso_6,a15,6.0)]),stack(a2,[container(iso_7,a20,7.0),container(iso_8,a21,8.0),container(iso_9,a22,9.0)]),stack(a3,[container(iso_10,a30,10.0)]),stack(a3,[]),stack(a4,[])])\n"
     ]
    }
   ],
   "source": [
    "import containerClass\n",
    "import stackClass\n",
    "import rowClass\n",
    "\n",
    "test_row = rowClass.Row(\"A\",[stackClass.Stack(\"A\",\"1\",[containerClass.Container(\"ISO_1\",float(1)),containerClass.Container(\"ISO_2\",float(2)),containerClass.Container(\"ISO_3\",float(3)),containerClass.Container(\"ISO_4\",float(4)),containerClass.Container(\"ISO_5\",float(5)),containerClass.Container(\"ISO_6\",float(6))],6),\n",
    "stackClass.Stack(\"A\",\"2\",[containerClass.Container(\"ISO_7\",float(7)),containerClass.Container(\"ISO_8\",float(8)),containerClass.Container(\"ISO_9\",float(9))],6),\n",
    "stackClass.Stack(\"A\",\"3\",[containerClass.Container(\"ISO_10\",float(10))],6)],5,6)\n",
    "\n",
    "print(test_row.to_prolog_string())"
   ]
  },
  {
   "cell_type": "code",
   "execution_count": null,
   "metadata": {},
   "outputs": [],
   "source": []
  }
 ],
 "metadata": {
  "kernelspec": {
   "display_name": "Python 3.8.8 ('base')",
   "language": "python",
   "name": "python3"
  },
  "language_info": {
   "codemirror_mode": {
    "name": "ipython",
    "version": 3
   },
   "file_extension": ".py",
   "mimetype": "text/x-python",
   "name": "python",
   "nbconvert_exporter": "python",
   "pygments_lexer": "ipython3",
   "version": "3.8.8"
  },
  "orig_nbformat": 4,
  "vscode": {
   "interpreter": {
    "hash": "dca14c8791c384925bf8e0fca98c394964149937d783740e7baae7e730f2de9e"
   }
  }
 },
 "nbformat": 4,
 "nbformat_minor": 2
}
