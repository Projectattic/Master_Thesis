{
 "cells": [
  {
   "cell_type": "code",
   "execution_count": 1,
   "metadata": {},
   "outputs": [
    {
     "name": "stdout",
     "output_type": "stream",
     "text": [
      "1 A11\n",
      "2 None\n",
      "3 ISO_123\n",
      "4 1.0\n",
      "True\n",
      "True\n",
      "True\n",
      "False\n",
      "ISO_123\n"
     ]
    }
   ],
   "source": [
    "import containerClass\n",
    "\n",
    "container = containerClass.Container(\"ISO_123\",float(1))\n",
    "\n",
    "\n",
    "#1\n",
    "container.set_location(\"A11\")\n",
    "print(\"1 \" +str(container.get_location()))\n",
    "\n",
    "#2\n",
    "container.remove_location()\n",
    "print(\"2 \" +str(container.get_location()))\n",
    "\n",
    "#3\n",
    "cont_number = container.get_number()\n",
    "print(\"3 \" +str(cont_number))\n",
    "\n",
    "#4\n",
    "cont_dwell_time = container.get_dwell_time()\n",
    "print(\"4 \" +str(cont_dwell_time))\n",
    "\n",
    "#5\n",
    "cont_copy = container.copy()\n",
    "print(cont_copy.container_number == container.container_number)\n",
    "print(cont_copy.container_location == container.container_location)\n",
    "print(cont_copy.dwell_time == container.dwell_time)\n",
    "print(cont_copy == container)\n",
    "\n",
    "#6\n",
    "print(container)\n"
   ]
  },
  {
   "cell_type": "code",
   "execution_count": 2,
   "metadata": {},
   "outputs": [
    {
     "name": "stdout",
     "output_type": "stream",
     "text": [
      "{\"container_number\": \"ISO_123\", \"dwell_time\": 1.0}\n"
     ]
    }
   ],
   "source": [
    "import containerClass\n",
    "\n",
    "container = containerClass.Container(\"ISO_123\",float(1))\n",
    "\n",
    "print(container.serialize_in_class())"
   ]
  },
  {
   "cell_type": "code",
   "execution_count": 1,
   "metadata": {},
   "outputs": [
    {
     "name": "stdout",
     "output_type": "stream",
     "text": [
      "container(ISO_123,None,1.0)\n"
     ]
    }
   ],
   "source": [
    "import containerClass\n",
    "\n",
    "container = containerClass.Container(\"ISO_123\",float(1))\n",
    "\n",
    "print(container.to_prolog_string())"
   ]
  },
  {
   "cell_type": "code",
   "execution_count": 3,
   "metadata": {},
   "outputs": [
    {
     "name": "stdout",
     "output_type": "stream",
     "text": [
      "1,2,3,4\n"
     ]
    }
   ],
   "source": [
    "string_list = ['1','2','3','4']\n",
    "\n",
    "end_string = ','.join(string_list)\n",
    "\n",
    "print(end_string)"
   ]
  },
  {
   "cell_type": "code",
   "execution_count": null,
   "metadata": {},
   "outputs": [],
   "source": []
  }
 ],
 "metadata": {
  "kernelspec": {
   "display_name": "Python 3.8.8 ('base')",
   "language": "python",
   "name": "python3"
  },
  "language_info": {
   "codemirror_mode": {
    "name": "ipython",
    "version": 3
   },
   "file_extension": ".py",
   "mimetype": "text/x-python",
   "name": "python",
   "nbconvert_exporter": "python",
   "pygments_lexer": "ipython3",
   "version": "3.8.8"
  },
  "orig_nbformat": 4,
  "vscode": {
   "interpreter": {
    "hash": "dca14c8791c384925bf8e0fca98c394964149937d783740e7baae7e730f2de9e"
   }
  }
 },
 "nbformat": 4,
 "nbformat_minor": 2
}
