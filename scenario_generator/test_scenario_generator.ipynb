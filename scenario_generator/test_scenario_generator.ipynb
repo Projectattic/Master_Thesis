{
 "cells": [
  {
   "cell_type": "code",
   "execution_count": null,
   "metadata": {},
   "outputs": [],
   "source": [
    "#Testing serialization of scenario\n",
    "\n",
    "from .scenario_generator import ScenarioGenerator\n",
    "import scenario_generator\n",
    "sg = ScenarioGenerator(750,751)\n",
    "\n",
    "int_list = list(range(90,110,10))\n",
    "str_list = [str(x) for x in int_list]\n",
    "\n",
    "\n",
    "for scenario_name in str_list:\n",
    "    for x in range(10):\n",
    "        target_percentage = int(scenario_name)/100\n",
    "        moves = sg.generateScenario_one_containe_per_hour(target_percentage)\n",
    "        scenario_generator.serialize_scenario(moves, f\"0_congestion_{scenario_name}_accuracy_{x}\")\n",
    "\n",
    "\n",
    "# moves, scenario_name = sg.generateScenario_one_containe_per_hour()\n",
    "\n",
    "# print(moves)\n",
    "# print(scenario_name)\n",
    "# scenario_generator.serialize_scenario(moves, scenario_name)\n",
    "\n",
    "# #testing deserialization of scenario\n",
    "\n",
    "# deserialized_moves = scenario_generator.deserialize_scenario(scenario_name)\n",
    "# print(deserialized_moves)\n",
    "# # print(deserialized_moves['target_percentage'])\n"
   ]
  },
  {
   "cell_type": "code",
   "execution_count": null,
   "metadata": {},
   "outputs": [],
   "source": [
    "#testing deserialization of scenario\n",
    "\n"
   ]
  },
  {
   "cell_type": "code",
   "execution_count": null,
   "metadata": {},
   "outputs": [],
   "source": [
    "int_list = list(range(0,100,10))\n",
    "str_list = [str(x) for x in int_list]\n",
    "\n",
    "print(str_list)"
   ]
  },
  {
   "cell_type": "code",
   "execution_count": null,
   "metadata": {},
   "outputs": [],
   "source": [
    "val = 0.7\n",
    "\n",
    "val_str = str(val)\n",
    "\n",
    "print(val_str)"
   ]
  },
  {
   "cell_type": "code",
   "execution_count": null,
   "metadata": {},
   "outputs": [],
   "source": [
    "from scenario_generator import ScenarioGenerator\n",
    "import scenario_generator\n",
    "int_list = list(range(10,110,10))\n",
    "str_list = [str(x) for x in int_list]\n",
    "n_blocks = 5\n",
    "n_rows = 5\n",
    "n_stacks = 5\n",
    "stack_height = 6\n",
    "n_containers = 375\n",
    "time_scale = 751\n",
    "n_tests = 10\n",
    "target_percentages = str_list\n",
    "initial_congestions = ['50']\n",
    "sg = ScenarioGenerator(n_blocks,n_rows,n_stacks,stack_height,n_containers, time_scale,n_tests, target_percentages, initial_congestions)\n",
    "sg.generate_scenarios()\n"
   ]
  },
  {
   "cell_type": "code",
   "execution_count": null,
   "metadata": {},
   "outputs": [],
   "source": [
    "for i in range(1):\n",
    "    print(i)\n",
    "    print(type(i))"
   ]
  },
  {
   "cell_type": "code",
   "execution_count": null,
   "metadata": {},
   "outputs": [],
   "source": [
    "import containerClass\n",
    "\n",
    "container_dict ={\n",
    "                    \"container_number\": \"ISO_4\",\n",
    "                    \"dwell_time\": 1,\n",
    "                    \"synthetic_dwell_time\": 1,\n",
    "                    \"container_location\": \"A001\"\n",
    "                }\n",
    "\n",
    "container = containerClass.deserialize(container_dict)\n",
    "\n",
    "print(container.__dict__)"
   ]
  },
  {
   "cell_type": "code",
   "execution_count": null,
   "metadata": {},
   "outputs": [],
   "source": [
    "accuracy_ints = list(range(10,110,10))\n",
    "accuracy_strs = [str(x) for x in accuracy_ints]\n",
    "print(accuracy_strs)"
   ]
  },
  {
   "cell_type": "code",
   "execution_count": null,
   "metadata": {},
   "outputs": [],
   "source": [
    "import math\n",
    "import matplotlib.pyplot as plt\n",
    "\n",
    "def even_distribution(min,max,n_items):\n",
    "    n_bins = (max-min)+1\n",
    "    items_per_bin = int(math.floor(n_items/n_bins))\n",
    "\n",
    "    final_array = []\n",
    "    for x in range(min,max+1):\n",
    "        final_array+=[x]*items_per_bin\n",
    "    \n",
    "    return final_array\n",
    "\n",
    "a = even_distribution(1,1,1000)\n",
    "\n",
    "plt.hist(a)"
   ]
  },
  {
   "cell_type": "code",
   "execution_count": 3,
   "metadata": {},
   "outputs": [
    {
     "name": "stdout",
     "output_type": "stream",
     "text": [
      "maximum: 138, minimum: 42\n",
      "total_n: 142857.14285714287, remaining_n: 42857.14285714287, half_remaining_n 21428\n",
      "min_value_lower_fill: 1, max_value_lower_fill: 41\n",
      "min_value_upper_fill: 138, max_value_upper_fill: 186\n",
      "121\n"
     ]
    },
    {
     "data": {
      "image/png": "[encoded data removed]",
      "text/plain": [
       "<Figure size 432x288 with 4 Axes>"
      ]
     },
     "metadata": {
      "needs_background": "light"
     },
     "output_type": "display_data"
    }
   ],
   "source": [
    "import numpy as np\n",
    "import random\n",
    "import matplotlib.pyplot as plt\n",
    "import math\n",
    "\n",
    "def even_distribution(min,max,n_items):\n",
    "    n_bins = (max-min)+1\n",
    "    items_per_bin = int(math.floor(n_items/n_bins))\n",
    "\n",
    "    final_array = []\n",
    "    for x in range(min,max+1):\n",
    "        final_array+=[x]*items_per_bin\n",
    "\n",
    "\n",
    "    return final_array\n",
    "\n",
    "def random_choice_histogram_even(dwell_time, target_percentage):\n",
    "    n = 100000\n",
    "\n",
    "    maximum = dwell_time+48\n",
    "    minimum = dwell_time-48\n",
    "\n",
    "\n",
    "    if minimum<1: minimum = 1\n",
    "    print(f\"maximum: {maximum}, minimum: {minimum}\")\n",
    "    even_distribution_middle = even_distribution(minimum, maximum,n)\n",
    "\n",
    "    total_n = n/target_percentage\n",
    "    remaining_n = total_n -n\n",
    "    half_remaining_n = math.floor(remaining_n/2)\n",
    "    print(f\"total_n: {total_n}, remaining_n: {remaining_n}, half_remaining_n {half_remaining_n}\")\n",
    "\n",
    "    #lower bound even fill\n",
    "    min_value_lower_fill = minimum- 48\n",
    "    if min_value_lower_fill <1: min_value_lower_fill=1\n",
    "\n",
    "    max_value_lower_fill = minimum-1\n",
    "    if max_value_lower_fill<1:max_value_lower_fill = 1\n",
    "    print(f\"min_value_lower_fill: {min_value_lower_fill}, max_value_lower_fill: {max_value_lower_fill}\")\n",
    "    lower_fill = even_distribution(min_value_lower_fill,max_value_lower_fill,half_remaining_n)\n",
    "\n",
    "    #upper bound even fill\n",
    "    min_value_upper_fill = maximum\n",
    "\n",
    "    max_value_upper_fill = maximum+48\n",
    "    print(f\"min_value_upper_fill: {min_value_upper_fill}, max_value_upper_fill: {max_value_upper_fill}\")\n",
    "    upper_fill = even_distribution(min_value_upper_fill,max_value_upper_fill,half_remaining_n)\n",
    "\n",
    "\n",
    "    total_array = even_distribution_middle+lower_fill+upper_fill\n",
    "\n",
    "\n",
    "    fig, axs = plt.subplots(2, 2)\n",
    "    axs[0,0].hist(total_array,bins =(max_value_upper_fill- min_value_lower_fill)+1)\n",
    "    axs[0,1].hist(even_distribution_middle,bins = (maximum - minimum)+1)\n",
    "    axs[1,0].hist(lower_fill,bins = (max_value_lower_fill-min_value_lower_fill)+1)\n",
    "    axs[1,1].hist(upper_fill,bins = (max_value_upper_fill-min_value_upper_fill)+1)\n",
    "\n",
    "    return random.choice(total_array)\n",
    "\n",
    "z = random_choice_histogram_even(90,0.70)\n",
    "\n",
    "print(z)"
   ]
  },
  {
   "cell_type": "code",
   "execution_count": 4,
   "metadata": {},
   "outputs": [
    {
     "data": {
      "image/png": "[encoded data removed]",
      "text/plain": [
       "<Figure size 432x288 with 1 Axes>"
      ]
     },
     "metadata": {
      "needs_background": "light"
     },
     "output_type": "display_data"
    }
   ],
   "source": [
    "import numpy as np\n",
    "\n",
    "from scipy.stats import hypergeom\n",
    "\n",
    "import matplotlib.pyplot as plt\n",
    "\n",
    "[M, n, N] = [100, 10, 100]\n",
    "\n",
    "rv = hypergeom(M, n, N)\n",
    "\n",
    "x = np.arange(0, n+1)\n",
    "\n",
    "pmf_dogs = rv.pmf(x)\n",
    "\n",
    "fig = plt.figure()\n",
    "\n",
    "ax = fig.add_subplot(111)\n",
    "\n",
    "ax.plot(x, pmf_dogs, 'bo')\n",
    "\n",
    "ax.vlines(x, 0, pmf_dogs, lw=2)\n",
    "\n",
    "ax.set_xlabel('# of dogs in our group of chosen animals')\n",
    "\n",
    "ax.set_ylabel('hypergeom PMF')\n",
    "\n",
    "plt.show()"
   ]
  },
  {
   "cell_type": "code",
   "execution_count": 5,
   "metadata": {},
   "outputs": [
    {
     "data": {
      "text/plain": [
       "<matplotlib.collections.LineCollection at 0x2e8a9eecfa0>"
      ]
     },
     "execution_count": 5,
     "metadata": {},
     "output_type": "execute_result"
    },
    {
     "data": {
      "image/png": "[encoded data removed]",
      "text/plain": [
       "<Figure size 432x288 with 1 Axes>"
      ]
     },
     "metadata": {
      "needs_background": "light"
     },
     "output_type": "display_data"
    }
   ],
   "source": [
    "import numpy as np\n",
    "\n",
    "from scipy.stats import binom\n",
    "\n",
    "import matplotlib.pyplot as plt\n",
    "\n",
    "fig, ax = plt.subplots(1, 1)\n",
    "\n",
    "n, p = 5, 0.4\n",
    "\n",
    "mean, var, skew, kurt = binom.stats(n, p, moments='mvsk')\n",
    "\n",
    "x = np.arange(binom.ppf(0.01, n, p),\n",
    "\n",
    "              binom.ppf(0.99, n, p))\n",
    "\n",
    "ax.plot(x, binom.pmf(x, n, p), 'bo', ms=8, label='binom pmf')\n",
    "\n",
    "ax.vlines(x, 0, binom.pmf(x, n, p), colors='b', lw=5, alpha=0.5)"
   ]
  },
  {
   "cell_type": "code",
   "execution_count": 6,
   "metadata": {},
   "outputs": [
    {
     "data": {
      "image/png": "[encoded data removed]",
      "text/plain": [
       "<Figure size 432x288 with 1 Axes>"
      ]
     },
     "metadata": {
      "needs_background": "light"
     },
     "output_type": "display_data"
    }
   ],
   "source": [
    "import numpy as np\n",
    "\n",
    "from scipy.stats import poisson\n",
    "\n",
    "import matplotlib.pyplot as plt\n",
    "\n",
    "fig, ax = plt.subplots(1, 1)\n",
    "\n",
    "mu = 0.6\n",
    "loc = 58\n",
    "mean, var, skew, kurt = poisson.stats(mu, moments='mvsk', loc= loc)\n",
    "\n",
    "x = np.arange(poisson.ppf(0.01, mu),\n",
    "\n",
    "              poisson.ppf(0.99, mu))\n",
    "\n",
    "ax.plot(x, poisson.pmf(x, mu), 'bo', ms=8, label='poisson pmf')\n",
    "\n",
    "ax.vlines(x, 0, poisson.pmf(x, mu), colors='b', lw=5, alpha=0.5)\n",
    "\n",
    "rv = poisson(mu)\n",
    "\n",
    "ax.vlines(x, 0, rv.pmf(x), colors='k', linestyles='-', lw=1,\n",
    "\n",
    "        label='frozen pmf')\n",
    "\n",
    "ax.legend(loc='best', frameon=False)\n",
    "\n",
    "plt.show()"
   ]
  },
  {
   "cell_type": "code",
   "execution_count": null,
   "metadata": {},
   "outputs": [],
   "source": [
    "import numpy as np\n",
    "\n",
    "from scipy.stats import poisson\n",
    "\n",
    "import matplotlib.pyplot as plt\n",
    "\n",
    "lol = poisson.pmf(k, mu, loc=0)"
   ]
  },
  {
   "cell_type": "code",
   "execution_count": 11,
   "metadata": {},
   "outputs": [
    {
     "data": {
      "image/png": "[encoded data removed]",
      "text/plain": [
       "<Figure size 432x288 with 1 Axes>"
      ]
     },
     "metadata": {
      "needs_background": "light"
     },
     "output_type": "display_data"
    }
   ],
   "source": [
    "# importing poisson from scipy\n",
    "from scipy.stats import poisson\n",
    " \n",
    "# importing numpy as np\n",
    "import numpy as np\n",
    " \n",
    "# importing matplotlib as plt\n",
    "import matplotlib.pyplot as plt\n",
    " \n",
    " \n",
    "# creating a numpy array for x-axis\n",
    "x = np.arange(0, 100, 0.5)\n",
    " \n",
    "# poisson distribution data for y-axis\n",
    "y = poisson.pmf(x, mu=76, loc=0-1)\n",
    " \n",
    " \n",
    "# plotting the graph\n",
    "plt.plot(x, y)\n",
    " \n",
    "# showing the graph\n",
    "plt.show()"
   ]
  },
  {
   "cell_type": "code",
   "execution_count": 8,
   "metadata": {},
   "outputs": [
    {
     "name": "stdout",
     "output_type": "stream",
     "text": [
      "maximum: 98, minimum: 2\n"
     ]
    },
    {
     "ename": "ValueError",
     "evalue": "Domain error in arguments.",
     "output_type": "error",
     "traceback": [
      "\u001b[1;31m---------------------------------------------------------------------------\u001b[0m",
      "\u001b[1;31mValueError\u001b[0m                                Traceback (most recent call last)",
      "\u001b[1;32m<ipython-input-8-fbf703445628>\u001b[0m in \u001b[0;36m<module>\u001b[1;34m\u001b[0m\n\u001b[0;32m     63\u001b[0m     \u001b[1;32mreturn\u001b[0m \u001b[0mrandom\u001b[0m\u001b[1;33m.\u001b[0m\u001b[0mchoice\u001b[0m\u001b[1;33m(\u001b[0m\u001b[0mtotal_array\u001b[0m\u001b[1;33m)\u001b[0m\u001b[1;33m.\u001b[0m\u001b[0mitem\u001b[0m\u001b[1;33m(\u001b[0m\u001b[1;33m)\u001b[0m\u001b[1;33m\u001b[0m\u001b[1;33m\u001b[0m\u001b[0m\n\u001b[0;32m     64\u001b[0m \u001b[1;33m\u001b[0m\u001b[0m\n\u001b[1;32m---> 65\u001b[1;33m \u001b[0mz\u001b[0m \u001b[1;33m=\u001b[0m \u001b[0mrandom_choice_histogram_even\u001b[0m\u001b[1;33m(\u001b[0m\u001b[1;36m50\u001b[0m\u001b[1;33m,\u001b[0m\u001b[1;36m0.1\u001b[0m\u001b[1;33m)\u001b[0m\u001b[1;33m\u001b[0m\u001b[1;33m\u001b[0m\u001b[0m\n\u001b[0m\u001b[0;32m     66\u001b[0m \u001b[1;33m\u001b[0m\u001b[0m\n\u001b[0;32m     67\u001b[0m \u001b[0mprint\u001b[0m\u001b[1;33m(\u001b[0m\u001b[0mz\u001b[0m\u001b[1;33m)\u001b[0m\u001b[1;33m\u001b[0m\u001b[1;33m\u001b[0m\u001b[0m\n",
      "\u001b[1;32m<ipython-input-8-fbf703445628>\u001b[0m in \u001b[0;36mrandom_choice_histogram_even\u001b[1;34m(dwell_time, target_percentage)\u001b[0m\n\u001b[0;32m     47\u001b[0m         \u001b[0mn_samples_on_right\u001b[0m \u001b[1;33m=\u001b[0m \u001b[0mremaining_n\u001b[0m\u001b[1;33m-\u001b[0m\u001b[0mn_samples_on_left\u001b[0m\u001b[1;33m\u001b[0m\u001b[1;33m\u001b[0m\u001b[0m\n\u001b[0;32m     48\u001b[0m \u001b[1;33m\u001b[0m\u001b[0m\n\u001b[1;32m---> 49\u001b[1;33m         \u001b[0meven_distribution_left\u001b[0m \u001b[1;33m=\u001b[0m \u001b[0mlist\u001b[0m\u001b[1;33m(\u001b[0m\u001b[0mrandint\u001b[0m\u001b[1;33m.\u001b[0m\u001b[0mrvs\u001b[0m\u001b[1;33m(\u001b[0m\u001b[0mabsolute_minimum\u001b[0m\u001b[1;33m,\u001b[0m \u001b[0mminimum\u001b[0m\u001b[1;33m-\u001b[0m\u001b[1;36m1\u001b[0m\u001b[1;33m,\u001b[0m \u001b[0msize\u001b[0m\u001b[1;33m=\u001b[0m\u001b[0mn_samples_on_left\u001b[0m\u001b[1;33m)\u001b[0m\u001b[1;33m)\u001b[0m\u001b[1;33m\u001b[0m\u001b[1;33m\u001b[0m\u001b[0m\n\u001b[0m\u001b[0;32m     50\u001b[0m         \u001b[0meven_distribution_right\u001b[0m \u001b[1;33m=\u001b[0m \u001b[0mlist\u001b[0m\u001b[1;33m(\u001b[0m\u001b[0mrandint\u001b[0m\u001b[1;33m.\u001b[0m\u001b[0mrvs\u001b[0m\u001b[1;33m(\u001b[0m\u001b[0mmaximum\u001b[0m\u001b[1;33m+\u001b[0m\u001b[1;36m1\u001b[0m\u001b[1;33m,\u001b[0m \u001b[0mabsolute_maximum\u001b[0m\u001b[1;33m,\u001b[0m \u001b[0msize\u001b[0m\u001b[1;33m=\u001b[0m\u001b[0mn_samples_on_right\u001b[0m\u001b[1;33m)\u001b[0m\u001b[1;33m)\u001b[0m\u001b[1;33m\u001b[0m\u001b[1;33m\u001b[0m\u001b[0m\n\u001b[0;32m     51\u001b[0m \u001b[1;33m\u001b[0m\u001b[0m\n",
      "\u001b[1;32mc:\\Users\\Benjy\\anaconda3\\lib\\site-packages\\scipy\\stats\\_distn_infrastructure.py\u001b[0m in \u001b[0;36mrvs\u001b[1;34m(self, *args, **kwargs)\u001b[0m\n\u001b[0;32m   3076\u001b[0m         \"\"\"\n\u001b[0;32m   3077\u001b[0m         \u001b[0mkwargs\u001b[0m\u001b[1;33m[\u001b[0m\u001b[1;34m'discrete'\u001b[0m\u001b[1;33m]\u001b[0m \u001b[1;33m=\u001b[0m \u001b[1;32mTrue\u001b[0m\u001b[1;33m\u001b[0m\u001b[1;33m\u001b[0m\u001b[0m\n\u001b[1;32m-> 3078\u001b[1;33m         \u001b[1;32mreturn\u001b[0m \u001b[0msuper\u001b[0m\u001b[1;33m(\u001b[0m\u001b[0mrv_discrete\u001b[0m\u001b[1;33m,\u001b[0m \u001b[0mself\u001b[0m\u001b[1;33m)\u001b[0m\u001b[1;33m.\u001b[0m\u001b[0mrvs\u001b[0m\u001b[1;33m(\u001b[0m\u001b[1;33m*\u001b[0m\u001b[0margs\u001b[0m\u001b[1;33m,\u001b[0m \u001b[1;33m**\u001b[0m\u001b[0mkwargs\u001b[0m\u001b[1;33m)\u001b[0m\u001b[1;33m\u001b[0m\u001b[1;33m\u001b[0m\u001b[0m\n\u001b[0m\u001b[0;32m   3079\u001b[0m \u001b[1;33m\u001b[0m\u001b[0m\n\u001b[0;32m   3080\u001b[0m     \u001b[1;32mdef\u001b[0m \u001b[0mpmf\u001b[0m\u001b[1;33m(\u001b[0m\u001b[0mself\u001b[0m\u001b[1;33m,\u001b[0m \u001b[0mk\u001b[0m\u001b[1;33m,\u001b[0m \u001b[1;33m*\u001b[0m\u001b[0margs\u001b[0m\u001b[1;33m,\u001b[0m \u001b[1;33m**\u001b[0m\u001b[0mkwds\u001b[0m\u001b[1;33m)\u001b[0m\u001b[1;33m:\u001b[0m\u001b[1;33m\u001b[0m\u001b[1;33m\u001b[0m\u001b[0m\n",
      "\u001b[1;32mc:\\Users\\Benjy\\anaconda3\\lib\\site-packages\\scipy\\stats\\_distn_infrastructure.py\u001b[0m in \u001b[0;36mrvs\u001b[1;34m(self, *args, **kwds)\u001b[0m\n\u001b[0;32m   1033\u001b[0m         \u001b[0mcond\u001b[0m \u001b[1;33m=\u001b[0m \u001b[0mlogical_and\u001b[0m\u001b[1;33m(\u001b[0m\u001b[0mself\u001b[0m\u001b[1;33m.\u001b[0m\u001b[0m_argcheck\u001b[0m\u001b[1;33m(\u001b[0m\u001b[1;33m*\u001b[0m\u001b[0margs\u001b[0m\u001b[1;33m)\u001b[0m\u001b[1;33m,\u001b[0m \u001b[1;33m(\u001b[0m\u001b[0mscale\u001b[0m \u001b[1;33m>=\u001b[0m \u001b[1;36m0\u001b[0m\u001b[1;33m)\u001b[0m\u001b[1;33m)\u001b[0m\u001b[1;33m\u001b[0m\u001b[1;33m\u001b[0m\u001b[0m\n\u001b[0;32m   1034\u001b[0m         \u001b[1;32mif\u001b[0m \u001b[1;32mnot\u001b[0m \u001b[0mnp\u001b[0m\u001b[1;33m.\u001b[0m\u001b[0mall\u001b[0m\u001b[1;33m(\u001b[0m\u001b[0mcond\u001b[0m\u001b[1;33m)\u001b[0m\u001b[1;33m:\u001b[0m\u001b[1;33m\u001b[0m\u001b[1;33m\u001b[0m\u001b[0m\n\u001b[1;32m-> 1035\u001b[1;33m             \u001b[1;32mraise\u001b[0m \u001b[0mValueError\u001b[0m\u001b[1;33m(\u001b[0m\u001b[1;34m\"Domain error in arguments.\"\u001b[0m\u001b[1;33m)\u001b[0m\u001b[1;33m\u001b[0m\u001b[1;33m\u001b[0m\u001b[0m\n\u001b[0m\u001b[0;32m   1036\u001b[0m \u001b[1;33m\u001b[0m\u001b[0m\n\u001b[0;32m   1037\u001b[0m         \u001b[1;32mif\u001b[0m \u001b[0mnp\u001b[0m\u001b[1;33m.\u001b[0m\u001b[0mall\u001b[0m\u001b[1;33m(\u001b[0m\u001b[0mscale\u001b[0m \u001b[1;33m==\u001b[0m \u001b[1;36m0\u001b[0m\u001b[1;33m)\u001b[0m\u001b[1;33m:\u001b[0m\u001b[1;33m\u001b[0m\u001b[1;33m\u001b[0m\u001b[0m\n",
      "\u001b[1;31mValueError\u001b[0m: Domain error in arguments."
     ]
    }
   ],
   "source": [
    "import numpy as np\n",
    "import random\n",
    "import matplotlib.pyplot as plt\n",
    "import math\n",
    "from scipy.stats import randint\n",
    "\n",
    "\n",
    "\n",
    "def random_choice_histogram_even(dwell_time, target_percentage):\n",
    "    n = 10000\n",
    "\n",
    "    interval_assumption_range = 120 # 5days \n",
    "\n",
    "    maximum = dwell_time+48\n",
    "    minimum = dwell_time-48\n",
    "\n",
    "    absolute_minimum = minimum - interval_assumption_range\n",
    "    absolute_maximum = maximum + interval_assumption_range\n",
    "    if absolute_minimum<1:\n",
    "            absolute_minimum = 1\n",
    "\n",
    "    if minimum<1: minimum = 1\n",
    "    print(f\"maximum: {maximum}, minimum: {minimum}\")\n",
    "    even_distribution_middle = list(randint.rvs(minimum, maximum, size=n))\n",
    "\n",
    "    total_n = n/target_percentage\n",
    "    remaining_n = math.floor(total_n -n)\n",
    "\n",
    "    #the remaining amount should be distributed on either side of the maximum/minimum range\n",
    "    \n",
    "    if minimum == 1:\n",
    "        #all remaining values should be above maximum\n",
    "        starting_int = maximum+1\n",
    "        even_distribution_right = list(randint.rvs(starting_int, absolute_maximum, size=remaining_n))\n",
    "        total_array = even_distribution_middle + even_distribution_right\n",
    "        even_distribution_left = []\n",
    "    else:\n",
    "\n",
    "        #take the ratio of left bins to right bins to assing remaining_n\n",
    "\n",
    "        n_bins_on_left = minimum-absolute_minimum\n",
    "        n_bins_on_right = absolute_maximum-maximum\n",
    "\n",
    "        ratio_bins_left_to_right = n_bins_on_left/n_bins_on_right\n",
    "\n",
    "        n_samples_on_left = math.floor(ratio_bins_left_to_right*remaining_n)\n",
    "        n_samples_on_right = remaining_n-n_samples_on_left\n",
    "\n",
    "        even_distribution_left = list(randint.rvs(absolute_minimum, minimum, size=n_samples_on_left))\n",
    "        even_distribution_right = list(randint.rvs(maximum+1, absolute_maximum, size=n_samples_on_right))\n",
    "\n",
    "\n",
    "        total_array = even_distribution_left + even_distribution_middle +even_distribution_right\n",
    "\n",
    "\n",
    "    fig, axs = plt.subplots(2, 2)\n",
    "    axs[0,0].hist(total_array,bins =(absolute_maximum-absolute_minimum))\n",
    "    axs[0,1].hist(even_distribution_middle,bins = (maximum - minimum))\n",
    "    axs[1,0].hist(even_distribution_right,bins = (absolute_maximum-maximum)-1)\n",
    "    if even_distribution_left:\n",
    "        axs[1,1].hist(even_distribution_left,bins = (minimum-absolute_minimum)-1)\n",
    "\n",
    "    return random.choice(total_array).item()\n",
    "\n",
    "z = random_choice_histogram_even(50,0.1)\n",
    "\n",
    "print(z)\n",
    "print(type(z))"
   ]
  },
  {
   "cell_type": "code",
   "execution_count": 26,
   "metadata": {},
   "outputs": [
    {
     "data": {
      "text/plain": [
       "(array([1016., 1046., 1093., 1013.,  994., 1090., 1057., 1000., 1030.,\n",
       "        1092., 1041., 1091., 1052., 1021., 1018., 1051., 1056., 1047.,\n",
       "        1053., 1080., 1011., 1085., 1023., 1114., 1098., 1098., 1070.,\n",
       "        1016., 1051., 1020., 1055., 1016., 1063., 1045., 1014., 1057.,\n",
       "        1009.,  995.,  994.,  991., 1078., 1077., 1030., 1058., 1095.,\n",
       "        1040., 1060., 1024., 1049., 1023., 1046., 1101., 1038., 1066.,\n",
       "        1036., 1010., 1116.,  990., 1058., 1006., 1077., 1039., 1006.,\n",
       "         985., 1018., 1075., 1039., 1054., 1038., 1094., 1072.,  990.,\n",
       "        1101., 1003., 1005.,  999., 1004., 1042., 1028., 1085.,  979.,\n",
       "        1037., 1043., 1039., 1057., 1039., 1018., 1041., 1036., 1012.,\n",
       "         977., 1032., 1055., 1060., 1027., 1027.]),\n",
       " array([ 10.        ,  10.98958333,  11.97916667,  12.96875   ,\n",
       "         13.95833333,  14.94791667,  15.9375    ,  16.92708333,\n",
       "         17.91666667,  18.90625   ,  19.89583333,  20.88541667,\n",
       "         21.875     ,  22.86458333,  23.85416667,  24.84375   ,\n",
       "         25.83333333,  26.82291667,  27.8125    ,  28.80208333,\n",
       "         29.79166667,  30.78125   ,  31.77083333,  32.76041667,\n",
       "         33.75      ,  34.73958333,  35.72916667,  36.71875   ,\n",
       "         37.70833333,  38.69791667,  39.6875    ,  40.67708333,\n",
       "         41.66666667,  42.65625   ,  43.64583333,  44.63541667,\n",
       "         45.625     ,  46.61458333,  47.60416667,  48.59375   ,\n",
       "         49.58333333,  50.57291667,  51.5625    ,  52.55208333,\n",
       "         53.54166667,  54.53125   ,  55.52083333,  56.51041667,\n",
       "         57.5       ,  58.48958333,  59.47916667,  60.46875   ,\n",
       "         61.45833333,  62.44791667,  63.4375    ,  64.42708333,\n",
       "         65.41666667,  66.40625   ,  67.39583333,  68.38541667,\n",
       "         69.375     ,  70.36458333,  71.35416667,  72.34375   ,\n",
       "         73.33333333,  74.32291667,  75.3125    ,  76.30208333,\n",
       "         77.29166667,  78.28125   ,  79.27083333,  80.26041667,\n",
       "         81.25      ,  82.23958333,  83.22916667,  84.21875   ,\n",
       "         85.20833333,  86.19791667,  87.1875    ,  88.17708333,\n",
       "         89.16666667,  90.15625   ,  91.14583333,  92.13541667,\n",
       "         93.125     ,  94.11458333,  95.10416667,  96.09375   ,\n",
       "         97.08333333,  98.07291667,  99.0625    , 100.05208333,\n",
       "        101.04166667, 102.03125   , 103.02083333, 104.01041667,\n",
       "        105.        ]),\n",
       " <BarContainer object of 96 artists>)"
      ]
     },
     "execution_count": 26,
     "metadata": {},
     "output_type": "execute_result"
    },
    {
     "data": {
      "image/png": "[encoded data removed]",
      "text/plain": [
       "<Figure size 432x288 with 1 Axes>"
      ]
     },
     "metadata": {
      "needs_background": "light"
     },
     "output_type": "display_data"
    }
   ],
   "source": [
    "import numpy as np\n",
    "\n",
    "from scipy.stats import randint\n",
    "\n",
    "import matplotlib.pyplot as plt\n",
    "\n",
    "r = list(randint.rvs(10, 106, size=100000))\n",
    "\n",
    "plt.hist(r,bins = 96)"
   ]
  },
  {
   "cell_type": "code",
   "execution_count": 31,
   "metadata": {},
   "outputs": [
    {
     "data": {
      "image/png": "[encoded data removed]",
      "text/plain": [
       "<Figure size 432x288 with 1 Axes>"
      ]
     },
     "metadata": {
      "needs_background": "light"
     },
     "output_type": "display_data"
    }
   ],
   "source": [
    "import numpy as np\n",
    "\n",
    "from scipy.stats import hypergeom\n",
    "\n",
    "import matplotlib.pyplot as plt\n",
    "\n",
    "[M, n, N] = [100000, 96, 1000]\n",
    "\n",
    "rv = hypergeom(M, n, N)\n",
    "\n",
    "x = np.arange(0, n+1)\n",
    "\n",
    "pmf_dogs = rv.pmf(x)\n",
    "\n",
    "\n",
    "fig = plt.figure()\n",
    "\n",
    "ax = fig.add_subplot(111)\n",
    "\n",
    "ax.plot(x, pmf_dogs, 'bo')\n",
    "\n",
    "ax.vlines(x, 0, pmf_dogs, lw=2)\n",
    "\n",
    "ax.set_xlabel('# of dogs in our group of chosen animals')\n",
    "\n",
    "ax.set_ylabel('hypergeom PMF')\n",
    "\n",
    "plt.show()"
   ]
  },
  {
   "cell_type": "code",
   "execution_count": 12,
   "metadata": {},
   "outputs": [
    {
     "name": "stdout",
     "output_type": "stream",
     "text": [
      "[1, 1, 1, 1, 1]\n"
     ]
    }
   ],
   "source": [
    "a = list(randint.rvs(1, 2, size=5))\n",
    "print(a)"
   ]
  },
  {
   "cell_type": "code",
   "execution_count": 54,
   "metadata": {},
   "outputs": [
    {
     "data": {
      "text/plain": [
       "Text(180, 79.4, 'avg. = 54')"
      ]
     },
     "execution_count": 54,
     "metadata": {},
     "output_type": "execute_result"
    },
    {
     "data": {
      "image/png": "[encoded data removed]",
      "text/plain": [
       "<Figure size 432x288 with 1 Axes>"
      ]
     },
     "metadata": {
      "needs_background": "light"
     },
     "output_type": "display_data"
    }
   ],
   "source": [
    "import numpy as np\n",
    "import statistics\n",
    "from scipy.stats import randint\n",
    "\n",
    "import matplotlib.pyplot as plt\n",
    "from collections import Counter\n",
    "def random_choice_histogram_5_day_range(dwell_time, target_percentage):\n",
    "    n = 10000\n",
    "\n",
    "    interval_assumption_range = 120 # 5days \n",
    "\n",
    "    maximum = dwell_time+48\n",
    "    minimum = dwell_time-48\n",
    "\n",
    "    absolute_minimum = minimum - interval_assumption_range\n",
    "    absolute_maximum = maximum + interval_assumption_range\n",
    "    if absolute_minimum<1:\n",
    "            absolute_minimum = 1\n",
    "\n",
    "    if minimum<1: minimum = 1\n",
    "    # print(f\"maximum: {maximum}, minimum: {minimum}\")\n",
    "    even_distribution_middle = list(randint.rvs(minimum, maximum+1, size=n))\n",
    "\n",
    "    total_n = n/target_percentage\n",
    "    remaining_n = total_n -n\n",
    "\n",
    "    #the remaining amount should be distributed on either side of the maximum/minimum range\n",
    "    \n",
    "    if minimum == 1:\n",
    "        #all remaining values should be above maximum\n",
    "        starting_int = maximum+1\n",
    "        remaining_n = math.floor(remaining_n)\n",
    "        even_distribution_right = list(randint.rvs(starting_int, absolute_maximum+1, size=remaining_n))\n",
    "        total_array = even_distribution_middle + even_distribution_right\n",
    "        even_distribution_left = []\n",
    "    else:\n",
    "\n",
    "        #take the ratio of left bins to right bins to assing remaining_n\n",
    "\n",
    "        n_bins_on_left = minimum-absolute_minimum+1\n",
    "        n_bins_on_right = absolute_maximum-maximum+1\n",
    "\n",
    "        ratio_bins_left_to_right = n_bins_on_left/n_bins_on_right\n",
    "\n",
    "        n_samples_on_left = ratio_bins_left_to_right*remaining_n\n",
    "        n_samples_on_right = remaining_n-n_samples_on_left\n",
    "\n",
    "        n_samples_on_left = math.floor(n_samples_on_left)\n",
    "        n_samples_on_right = math.floor(n_samples_on_right)\n",
    "\n",
    "        even_distribution_left = list(randint.rvs(absolute_minimum, minimum+1, size=n_samples_on_left))\n",
    "        even_distribution_right = list(randint.rvs(maximum+1, absolute_maximum+1, size=n_samples_on_right))\n",
    "\n",
    "\n",
    "        total_array = even_distribution_left + even_distribution_middle +even_distribution_right\n",
    "\n",
    "    return even_distribution_middle, even_distribution_left, even_distribution_right\n",
    "\n",
    "middle,left,right = random_choice_histogram_5_day_range(90,.5)\n",
    "\n",
    "fig,axs = plt.subplots()\n",
    "\n",
    "axs.set_xlabel(\"dwell time\")\n",
    "axs.set_ylabel(\"Chances of being picked (out of 2000)\")\n",
    "axs.set_title(\"Histogram of array generated by scenario for dwell time of 90\", pad = 10)\n",
    "axs.hist(left,bins =42,color = 'blue')\n",
    "axs.hist(middle, bins = 97, color = 'orange',label = '50% chance between \\n 42 and 136 hours')\n",
    "axs.hist(right,bins = 120,color= 'blue')\n",
    "axs.legend(bbox_to_anchor=(1.0, 1.0))\n",
    "average_left = statistics.mean(Counter(left).values())\n",
    "average_middle = statistics.mean(Counter(middle).values())\n",
    "average_right = statistics.mean(Counter(right).values())\n",
    "\n",
    "axs.plot([1,41],[average_left,average_left],color = 'black',linewidth = 3)\n",
    "axs.plot([41,137],[average_middle,average_middle],color = 'black',linewidth = 3)\n",
    "axs.plot([137,256],[average_right,average_right],color = 'black',linewidth = 3)\n",
    "\n",
    "font = {'family': 'serif',\n",
    "        'color':  'black',\n",
    "        'weight': 'normal',\n",
    "        'size': 10\n",
    "        }\n",
    "\n",
    "axs.text(-5,average_left+25,f\"avg. = {round(average_left)}\",fontdict=font)\n",
    "axs.text(70,average_middle-25,f\"avg. = {round(average_middle)}\",fontdict=font)\n",
    "axs.text(180,average_right+25,f\"avg. = {round(average_right)}\",fontdict=font)\n",
    "\n",
    "# fig.savefig('dwell_time_histogram.eps', format='eps')"
   ]
  },
  {
   "cell_type": "code",
   "execution_count": null,
   "metadata": {},
   "outputs": [],
   "source": []
  }
 ],
 "metadata": {
  "kernelspec": {
   "display_name": "base",
   "language": "python",
   "name": "python3"
  },
  "language_info": {
   "codemirror_mode": {
    "name": "ipython",
    "version": 3
   },
   "file_extension": ".py",
   "mimetype": "text/x-python",
   "name": "python",
   "nbconvert_exporter": "python",
   "pygments_lexer": "ipython3",
   "version": "3.8.8"
  },
  "orig_nbformat": 4,
  "vscode": {
   "interpreter": {
    "hash": "dca14c8791c384925bf8e0fca98c394964149937d783740e7baae7e730f2de9e"
   }
  }
 },
 "nbformat": 4,
 "nbformat_minor": 2
}
